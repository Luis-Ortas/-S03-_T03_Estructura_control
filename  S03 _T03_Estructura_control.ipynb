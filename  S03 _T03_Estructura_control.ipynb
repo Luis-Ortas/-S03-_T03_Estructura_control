{
 "cells": [
  {
   "cell_type": "markdown",
   "id": "621cde7d",
   "metadata": {},
   "source": [
    "## S03 T03: Estructura de control\n",
    "\n",
    "Comencem a familiaritzar-nos amb les estructures de control de Python"
   ]
  },
  {
   "cell_type": "markdown",
   "id": "9e3702ed",
   "metadata": {},
   "source": [
    "***\n",
    "# Nivell 1"
   ]
  },
  {
   "cell_type": "markdown",
   "id": "07590f5d",
   "metadata": {},
   "source": [
    "## Exercici 1\n",
    "\n",
    "L'exercici consisteix a crear un programa que et classifiqui una variable numèrica en funció de l’escala Suspès/Aprovat/Notable/Excel·lent."
   ]
  },
  {
   "cell_type": "code",
   "execution_count": 210,
   "id": "94d30c05",
   "metadata": {},
   "outputs": [
    {
     "name": "stdout",
     "output_type": "stream",
     "text": [
      " La nota -1 és Nota Incorrecta!\n",
      " La nota 0 és Suspès\n",
      " La nota 1 és Suspès\n",
      " La nota 2 és Suspès\n",
      " La nota 3 és Suspès\n",
      " La nota 4 és Suspès\n",
      " La nota 5 és Aprovat\n",
      " La nota 6 és Aprovat\n",
      " La nota 7 és Notable\n",
      " La nota 8 és Notable\n",
      " La nota 9 és Excel·lent\n",
      " La nota 10 és Excel·lent\n",
      " La nota 11 és Nota Incorrecta!\n"
     ]
    }
   ],
   "source": [
    "def clasi_notas(nota):\n",
    "    \n",
    "    \"\"\"Funció per clasificar les notes\n",
    "    de les evaluacions\"\"\"\n",
    "           \n",
    "    if nota >=9 and nota <=10:\n",
    "        return (\"Excel·lent\")\n",
    "    elif nota >=7  and nota <9:\n",
    "        return (\"Notable\")\n",
    "    elif nota >=5 and nota <7:\n",
    "        return (\"Aprovat\")\n",
    "    elif nota >=0 and nota <5:\n",
    "        return (\"Suspès\")\n",
    "    else:\n",
    "        return (\"Nota Incorrecta!\")\n",
    "\n",
    "    # comprovació\n",
    "    # realitzem un rang de notes del -1 al11.\n",
    "for i in range(13):\n",
    "    print(f' La nota {i-1} és {clasi_notas(i-1)}')\n",
    "    "
   ]
  },
  {
   "cell_type": "markdown",
   "id": "090ac7e3",
   "metadata": {},
   "source": [
    "## Exercici 2\n",
    "\n",
    "Utilitzant el següent tutorial Programiz: Python Input, Output and Import crea un programa que et pregunti dos números. T’ha de mostrar un missatge dient si el primer és més gran, el segon és més gran o són iguals."
   ]
  },
  {
   "cell_type": "code",
   "execution_count": 110,
   "id": "f6bfab82",
   "metadata": {},
   "outputs": [
    {
     "name": "stdout",
     "output_type": "stream",
     "text": [
      "Escriu un número: 99\n",
      "Escriu un altre número 100\n",
      "\n",
      "100.0 és més gran que 99.0\n"
     ]
    }
   ],
   "source": [
    "def compara():\n",
    "    '''La funcion comparará dos números que intruciremos\n",
    "    devolvera cual es mayor y sí son iguales'''\n",
    "    \n",
    "    # utilitzem while i try per a descartar els tipus no valgudes, string\n",
    "    \n",
    "    prueba=0\n",
    "    while prueba==0:\n",
    "        try:\n",
    "            a=float(input(\"Escriu un número: \"))\n",
    "            prueba=1\n",
    "        except ValueError:\n",
    "            print(\"Escriu un número  no un text!\\n\")\n",
    "\n",
    "    prueba=0\n",
    "\n",
    "    while prueba==0:\n",
    "        try:\n",
    "            b=float(input(\"Escriu un altre número \"))\n",
    "            prueba=1\n",
    "        except ValueError:\n",
    "            print(\"Escriu un número  no un text!\")\n",
    "\n",
    "    if a==b:\n",
    "        print(f\"\\nEls dos números són iguals. {a} és igual a {b}\")\n",
    "    elif a>b:\n",
    "        print(f\"\\n{a} és més gran que {b}\")\n",
    "    else:\n",
    "        print(f\"\\n{b} és més gran que {a}\")\n",
    "\n",
    "compara()"
   ]
  },
  {
   "cell_type": "code",
   "execution_count": 3,
   "id": "a934bd68",
   "metadata": {},
   "outputs": [
    {
     "name": "stdout",
     "output_type": "stream",
     "text": [
      "Escriu un número: Manolo\n",
      "Escriu un número  no un text!\n",
      "\n",
      "Escriu un número: 5.2\n",
      "Escriu un altre numero Pepe\n",
      "Escriu un número  no un text!\n",
      "Escriu un altre numero 5.3\n",
      "\n",
      "5.3 es mayor que 5.2\n"
     ]
    }
   ],
   "source": [
    "compara()"
   ]
  },
  {
   "cell_type": "code",
   "execution_count": 4,
   "id": "cc082f3b",
   "metadata": {},
   "outputs": [
    {
     "name": "stdout",
     "output_type": "stream",
     "text": [
      "Escriu un número: -2\n",
      "Escriu un altre numero -3\n",
      "\n",
      "-2.0 es mayor que -3.0\n"
     ]
    }
   ],
   "source": [
    "compara()"
   ]
  },
  {
   "cell_type": "markdown",
   "id": "99e6d5d1",
   "metadata": {},
   "source": [
    "## Exercici 3\n",
    "\n",
    "Crea un programa que et pregunti el teu nom, i et demani un número. Si el número és 0, hauria de mostrar un missatge d’error. En cas contrari, hauria de mostrar el nom repetit tants cops com indiqui el número. Per exemple, “Joan Joan Joan”"
   ]
  },
  {
   "cell_type": "code",
   "execution_count": 8,
   "id": "14fbaf85",
   "metadata": {},
   "outputs": [
    {
     "name": "stdout",
     "output_type": "stream",
     "text": [
      "Com et dius? Luis\n",
      "Escriu un numero entero: 5\n",
      "Luis Luis Luis Luis Luis \n"
     ]
    }
   ],
   "source": [
    "def repetir_Num():\n",
    "    nom=input(\"Com et dius? \")\n",
    "    \n",
    "\n",
    "    num=0\n",
    "    while num==0:\n",
    "        num=int(input(\"Escriu un numero entero: \"))\n",
    "        if num==0:\n",
    "            print(\"Que no sigui 0!!!!\")\n",
    "    print((nom+\" \")*num)\n",
    "        \n",
    "repetir_Num()"
   ]
  },
  {
   "cell_type": "markdown",
   "id": "9772f953",
   "metadata": {},
   "source": [
    "## Exercici 4\n",
    "\n",
    "Crea un programa que donada una llista qualsevol, et digui si es simètrica o no. Si ho és, que et digui quants elements té."
   ]
  },
  {
   "cell_type": "code",
   "execution_count": 109,
   "id": "4e869aea",
   "metadata": {},
   "outputs": [
    {
     "name": "stdout",
     "output_type": "stream",
     "text": [
      "La lista [1, 9, 3] no es simétrica\n",
      "La lista [3, 2, 1, 0, 1, 2, 3] es simetrica y tiene 7 elementos\n"
     ]
    }
   ],
   "source": [
    "import random\n",
    "\n",
    "def listaAleatorios3():\n",
    "    \n",
    "    '''Genera una lista aleatoria\n",
    "    con tres elementos'''\n",
    "   \n",
    "    lista = []\n",
    "\n",
    "    for i in range(3):\n",
    "        \n",
    "        lista.append(round(random.uniform(1,10)))\n",
    "    return lista\n",
    "\n",
    "def lista_Simetrica(lista):\n",
    "\n",
    "    lista_reverse=lista.copy()\n",
    "    lista_reverse.reverse()\n",
    "        \n",
    "\n",
    "    if lista==lista_reverse:\n",
    "       \n",
    "        return (f'La lista {lista} és simètrica y tiene {len(lista)} elementos')\n",
    "    else:\n",
    "        return (f'La lista {lista} no és simètrica')\n",
    "\n",
    "    #comprovació\n",
    "print(lista_Simetrica(listaAleatorios3()))\n",
    "\n",
    "simetrica=[3,2,1,0,1,2,3]\n",
    "print(lista_Simetrica(simetrica))"
   ]
  },
  {
   "cell_type": "markdown",
   "id": "7d4185cc",
   "metadata": {},
   "source": [
    "## Exercici 5\n",
    "\n",
    "Crea un programa que donada una llista, et digui quants números coincideixen amb la seva posició. Per exemple [3,4,2,0,2,3,6] el 2 i el 6 coincideixen."
   ]
  },
  {
   "cell_type": "code",
   "execution_count": 63,
   "id": "a97b4892",
   "metadata": {},
   "outputs": [
    {
     "name": "stdout",
     "output_type": "stream",
     "text": [
      "[3, 3, 7, 3, 8, 9, 5, 4, 5, 9]\n",
      "Hay 2 numeros que coincide el número y el indice:  el 3 y el 9."
     ]
    }
   ],
   "source": [
    "def listaAleatorios10():\n",
    "    \n",
    "    '''Genera una lista aleatoria \n",
    "    con 10 elementos'''\n",
    "    lista = []\n",
    "\n",
    "    for i in range(10):\n",
    "        \n",
    "        lista.append(round(random.uniform(1,10)))\n",
    "    return lista\n",
    "\n",
    "\n",
    "#lista=listaAleatorios10()\n",
    "#print(lista)\n",
    "\n",
    "\n",
    "def coincide_Index(lista):\n",
    "  \n",
    "    print(lista)\n",
    "    lista_Ind=[]\n",
    "\n",
    "    for i in range(len(lista)):\n",
    "        if lista[i]==i:  \n",
    "            lista_Ind.append(i)\n",
    "           \n",
    "    if len(lista_Ind)>0:\n",
    "    \n",
    "        print(f'Hay {len(lista_Ind)} numeros que coincide el número y el indice: ', end=\" \")\n",
    "        for j in range(len(lista_Ind)):\n",
    "        \n",
    "            if len(lista_Ind)==1:\n",
    "                print(\"el\", lista_Ind[j])\n",
    "            elif j==len(lista_Ind)-1:\n",
    "                print(\"el\", lista_Ind[j], end=\".\") \n",
    "            elif j==len(lista_Ind)-2:\n",
    "                print(\"el\", lista_Ind[j], end=\" y \")    \n",
    "            else:\n",
    "                \n",
    "                \n",
    "                print(\"el\" ,lista_Ind[j], end=\", \")\n",
    "    else:\n",
    "        print(\"No hay numeros coincidentes\")\n",
    "        \n",
    "# comprovació\n",
    "        \n",
    "coincide_Index(listaAleatorios10())\n"
   ]
  }
 ],
 "metadata": {
  "kernelspec": {
   "display_name": "Python 3",
   "language": "python",
   "name": "python3"
  },
  "language_info": {
   "codemirror_mode": {
    "name": "ipython",
    "version": 3
   },
   "file_extension": ".py",
   "mimetype": "text/x-python",
   "name": "python",
   "nbconvert_exporter": "python",
   "pygments_lexer": "ipython3",
   "version": "3.8.8"
  }
 },
 "nbformat": 4,
 "nbformat_minor": 5
}
